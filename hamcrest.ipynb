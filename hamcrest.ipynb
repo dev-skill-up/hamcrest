{
 "cells": [
  {
   "cell_type": "markdown",
   "metadata": {},
   "source": [
    "```{=latex}\n",
    "\\usepackage{hyperref}\n",
    "\\usepackage{graphicx}\n",
    "\\usepackage{listings}\n",
    "\\usepackage{textcomp}\n",
    "\\usepackage{fancyvrb}\n",
    "\n",
    "\\newcommand{\\passthrough}[1]{\\lstset{mathescape=false}#1\\lstset{mathescape=true}}\n",
    "```"
   ]
  },
  {
   "cell_type": "markdown",
   "metadata": {},
   "source": [
    "```{=latex}\n",
    "\\title{PyHamcrest: Check What You Want to Check}\n",
    "\\author{Moshe Zadka -- https://cobordism.com}\n",
    "\\date{2020}\n",
    "\n",
    "\\begin{document}\n",
    "\\begin{titlepage}\n",
    "\\maketitle\n",
    "\\end{titlepage}\n",
    "\n",
    "\\frame{\\titlepage}\n",
    "```"
   ]
  },
  {
   "cell_type": "code",
   "execution_count": 13,
   "metadata": {},
   "outputs": [],
   "source": [
    "from hamcrest import *"
   ]
  },
  {
   "cell_type": "code",
   "execution_count": 143,
   "metadata": {},
   "outputs": [],
   "source": [
    "import contextlib\n",
    "import textwrap\n",
    "import itertools\n",
    "\n",
    "@contextlib.contextmanager\n",
    "def show_assert():\n",
    "    try:\n",
    "        yield\n",
    "    except AssertionError as exc:\n",
    "        res = str(exc)\n",
    "        lines = itertools.chain.from_iterable(\n",
    "            textwrap.wrap(line, 50) \n",
    "            for line in res.splitlines()\n",
    "        )\n",
    "        res = \"\\n\".join(lines)\n",
    "        print(res)"
   ]
  },
  {
   "cell_type": "code",
   "execution_count": 144,
   "metadata": {},
   "outputs": [
    {
     "name": "stdout",
     "output_type": "stream",
     "text": [
      "hello\n"
     ]
    }
   ],
   "source": [
    "with show_assert():\n",
    "    assert False, \"hello\""
   ]
  },
  {
   "cell_type": "markdown",
   "metadata": {},
   "source": [
    "```{=latex}\n",
    "\\begin{frame}\n",
    "\\frametitle{Acknowledgement of Country}\n",
    "\n",
    "Belmont (in San Francisco Bay Area Peninsula)\n",
    "\n",
    "Ancestral homeland of the Ramaytush Ohlone\n",
    "\n",
    "\\end{frame}\n",
    "```"
   ]
  },
  {
   "cell_type": "markdown",
   "metadata": {},
   "source": [
    "## Unit tests and Assertions"
   ]
  },
  {
   "cell_type": "markdown",
   "metadata": {},
   "source": [
    "### Rough definition of unit tests"
   ]
  },
  {
   "cell_type": "markdown",
   "metadata": {},
   "source": [
    "```{=latex}\n",
    "\\begin{frame}\n",
    "\\frametitle{What Is a Unit Test?}\n",
    "\n",
    "\\pause\n",
    "\n",
    "Isolation? \\pause\n",
    "\n",
    "Fast? \\pause\n",
    "\n",
    "Small System-Under-Test?\n",
    "\n",
    "\n",
    "\\end{frame}\n",
    "```"
   ]
  },
  {
   "cell_type": "markdown",
   "metadata": {},
   "source": [
    "### Why assert?"
   ]
  },
  {
   "cell_type": "markdown",
   "metadata": {},
   "source": [
    "```{=latex}\n",
    "\\begin{frame}[fragile]\n",
    "\\frametitle{Python Unit Test Anatomy}\n",
    "\n",
    "\\begin{itemize}\n",
    "\\item Runner (nose, pytest, virtue, etc.)\n",
    "\\item Test case (unittest.TestCase, testtools.TestCase, etc.)\n",
    "\\item Assertions (pytest assert rewriting, \\verb|unittest.TestCase.assert_*|, \\verb\n",
    "|testtools.TestCase.assert_that|)\n",
    "\\end{itemize}\n",
    "\n",
    "\\end{frame}\n",
    "\n",
    "```"
   ]
  },
  {
   "cell_type": "markdown",
   "metadata": {},
   "source": [
    "```{=latex}\n",
    "\\begin{frame}\n",
    "\\frametitle{All-in-one or A-la-carte?}\n",
    "\n",
    "\\begin{itemize}\n",
    "\\item All in one: pytest, testtools, unittest\n",
    "\\item A-la-carte runners: nose, virtue\n",
    "\\item A-la-carte assertions: hamcrest\n",
    "\\end{itemize}\n",
    "\n",
    "\\end{frame}\n",
    "\n",
    "```"
   ]
  },
  {
   "cell_type": "markdown",
   "metadata": {},
   "source": [
    "```{=latex}\n",
    "\\begin{frame}\n",
    "\\frametitle{Hamcrest Composability}\n",
    "\n",
    "\\begin{itemize}\n",
    "\\item Works in any runner\n",
    "\\item Works with any test case\n",
    "\\item Focuses on just assertions\n",
    "\\end{itemize}\n",
    "\n",
    "\\end{frame}\n",
    "\n",
    "```"
   ]
  },
  {
   "cell_type": "markdown",
   "metadata": {},
   "source": [
    "### Bad test one: False alarm"
   ]
  },
  {
   "cell_type": "markdown",
   "metadata": {},
   "source": [
    "```{=latex}\n",
    "\\begin{frame}\n",
    "\\frametitle{Bad Unit Test One: False Alarm}\n",
    "\n",
    "AKA: False positive, Type I Error, Boy Who Cried Wolf\n",
    "\n",
    "Asserting things that don't have to be true\n",
    "\n",
    "\\end{frame}\n",
    "\n",
    "```"
   ]
  },
  {
   "cell_type": "markdown",
   "metadata": {},
   "source": [
    "### Bad test two: Missing alarm"
   ]
  },
  {
   "cell_type": "markdown",
   "metadata": {},
   "source": [
    "```{=latex}\n",
    "\\begin{frame}\n",
    "\\frametitle{Bad Unit Test Two: Missing Alarm}\n",
    "\n",
    "AKA: False negative, Type II Error, Boy Who Cried Wolf But Nobody Believed Him\n",
    "\n",
    "Not asserting things that have to be true\n",
    "\n",
    "\\end{frame}\n",
    "\n",
    "```"
   ]
  },
  {
   "cell_type": "markdown",
   "metadata": {},
   "source": [
    "### Thinking of unit test value"
   ]
  },
  {
   "cell_type": "markdown",
   "metadata": {},
   "source": [
    "```{=latex}\n",
    "\\begin{frame}[fragile]\n",
    "\\frametitle{Unit Test (Suite) Value}\n",
    "```"
   ]
  },
  {
   "cell_type": "code",
   "execution_count": 145,
   "metadata": {},
   "outputs": [],
   "source": [
    "def f_score(\n",
    "        beta,          # 1 if False Alarms / \n",
    "                       # Missing Alarms \n",
    "                       # are equally bad\n",
    "                       # Other common values:\n",
    "                       # 2 (Missing Alarms \n",
    "                       # matter more),\n",
    "                       # 0.5 (False Alarms\n",
    "                       # matter more)\n",
    "        true_alarm,    # Test runs that \n",
    "                       # caught a bug\n",
    "        false_alarm,   # Test runs that \n",
    "                       # failed without a bug\n",
    "        missing_alarm, # Bugs not caught\n",
    "    ):\n",
    "    ..."
   ]
  },
  {
   "cell_type": "markdown",
   "metadata": {},
   "source": [
    "```{=latex}\n",
    "\\end{frame}\n",
    "```"
   ]
  },
  {
   "cell_type": "markdown",
   "metadata": {},
   "source": [
    "```{=latex}\n",
    "\\begin{frame}[fragile]\n",
    "\\frametitle{Unit Test (Suite) Value}\n",
    "```"
   ]
  },
  {
   "cell_type": "code",
   "execution_count": 146,
   "metadata": {},
   "outputs": [],
   "source": [
    "def f_score(\n",
    "        beta,\n",
    "        true_alarm,\n",
    "        false_alarm,\n",
    "        missing_alarm,\n",
    "    ):\n",
    "    numerator = (1 + beta**2) * true_alarm\n",
    "    denominator = (\n",
    "        numerator + \n",
    "        beta**2 * missing_alarm + false_alarm\n",
    "    )\n",
    "    return numerator / denominator"
   ]
  },
  {
   "cell_type": "markdown",
   "metadata": {},
   "source": [
    "```{=latex}\n",
    "\\end{frame}\n",
    "```"
   ]
  },
  {
   "cell_type": "markdown",
   "metadata": {},
   "source": [
    "## PyHamcrest Simple Examples"
   ]
  },
  {
   "cell_type": "markdown",
   "metadata": {},
   "source": [
    "### Equality"
   ]
  },
  {
   "cell_type": "markdown",
   "metadata": {},
   "source": [
    "```{=latex}\n",
    "\\begin{frame}[fragile]\n",
    "\\frametitle{Equality}\n",
    "```"
   ]
  },
  {
   "cell_type": "code",
   "execution_count": 147,
   "metadata": {},
   "outputs": [
    {
     "name": "stdout",
     "output_type": "stream",
     "text": [
      "Expected: <2>\n",
      "     but: was <1>\n"
     ]
    }
   ],
   "source": [
    "with show_assert():\n",
    "    assert_that(1, equal_to(2))"
   ]
  },
  {
   "cell_type": "markdown",
   "metadata": {},
   "source": [
    "```{=latex}\n",
    "\\end{frame}\n",
    "```"
   ]
  },
  {
   "cell_type": "markdown",
   "metadata": {},
   "source": [
    "### Sequence containment"
   ]
  },
  {
   "cell_type": "markdown",
   "metadata": {},
   "source": [
    "```{=latex}\n",
    "\\begin{frame}[fragile]\n",
    "\\frametitle{Containment}\n",
    "```"
   ]
  },
  {
   "cell_type": "code",
   "execution_count": 148,
   "metadata": {},
   "outputs": [
    {
     "name": "stdout",
     "output_type": "stream",
     "text": [
      "Expected: a sequence containing <5>\n",
      "     but: was <[1, 2, 3]>\n"
     ]
    }
   ],
   "source": [
    "with show_assert():\n",
    "    assert_that([1, 2, 3], has_item(5))"
   ]
  },
  {
   "cell_type": "markdown",
   "metadata": {},
   "source": [
    "```{=latex}\n",
    "\\end{frame}\n",
    "```"
   ]
  },
  {
   "cell_type": "markdown",
   "metadata": {},
   "source": [
    "### Combination: any"
   ]
  },
  {
   "cell_type": "markdown",
   "metadata": {},
   "source": [
    "```{=latex}\n",
    "\\begin{frame}[fragile]\n",
    "\\frametitle{Any}\n",
    "```"
   ]
  },
  {
   "cell_type": "code",
   "execution_count": 150,
   "metadata": {},
   "outputs": [
    {
     "name": "stdout",
     "output_type": "stream",
     "text": [
      "Expected: (<2> or <0>)\n",
      "     but: was <1>\n"
     ]
    }
   ],
   "source": [
    "with show_assert():\n",
    "    assert_that(\n",
    "        1,\n",
    "        any_of(\n",
    "          equal_to(2),\n",
    "          equal_to(0),\n",
    "        )\n",
    "    )"
   ]
  },
  {
   "cell_type": "markdown",
   "metadata": {},
   "source": [
    "```{=latex}\n",
    "\\end{frame}\n",
    "```"
   ]
  },
  {
   "cell_type": "markdown",
   "metadata": {},
   "source": [
    "### Combination: all"
   ]
  },
  {
   "cell_type": "markdown",
   "metadata": {},
   "source": [
    "```{=latex}\n",
    "\\begin{frame}[fragile]\n",
    "\\frametitle{All}\n",
    "```"
   ]
  },
  {
   "cell_type": "code",
   "execution_count": 151,
   "metadata": {},
   "outputs": [
    {
     "name": "stdout",
     "output_type": "stream",
     "text": [
      "Expected: (a sequence containing <1> and a\n",
      "sequence containing <4>)\n",
      "     but: a sequence containing <4> was <[1, 2,\n",
      "3]>\n"
     ]
    }
   ],
   "source": [
    "with show_assert():\n",
    "    assert_that(\n",
    "        [1, 2, 3],\n",
    "        all_of(\n",
    "          has_item(1),\n",
    "          has_item(4),\n",
    "        )\n",
    "    )"
   ]
  },
  {
   "cell_type": "markdown",
   "metadata": {},
   "source": [
    "```{=latex}\n",
    "\\end{frame}\n",
    "```"
   ]
  },
  {
   "cell_type": "markdown",
   "metadata": {},
   "source": [
    "### Composability"
   ]
  },
  {
   "cell_type": "markdown",
   "metadata": {},
   "source": [
    "```{=latex}\n",
    "\\begin{frame}[fragile]\n",
    "\\frametitle{Compose}\n",
    "```"
   ]
  },
  {
   "cell_type": "code",
   "execution_count": 152,
   "metadata": {},
   "outputs": [
    {
     "name": "stdout",
     "output_type": "stream",
     "text": [
      "Expected: a sequence containing a sequence\n",
      "containing <5>\n",
      "     but: was <[[1, 2], [3, 4]]>\n"
     ]
    }
   ],
   "source": [
    "with show_assert():\n",
    "    assert_that(\n",
    "        [[1, 2], [3, 4]],\n",
    "        has_item(\n",
    "          has_item(5),\n",
    "        )\n",
    "    )"
   ]
  },
  {
   "cell_type": "markdown",
   "metadata": {},
   "source": [
    "```{=latex}\n",
    "\\end{frame}\n",
    "```"
   ]
  },
  {
   "cell_type": "markdown",
   "metadata": {},
   "source": [
    "## PyHamcrest Precision"
   ]
  },
  {
   "cell_type": "markdown",
   "metadata": {},
   "source": [
    "### Order vs. Unorder"
   ]
  },
  {
   "cell_type": "markdown",
   "metadata": {},
   "source": [
    "```{=latex}\n",
    "\\begin{frame}[fragile]\n",
    "\\frametitle{Order}\n",
    "```"
   ]
  },
  {
   "cell_type": "code",
   "execution_count": 153,
   "metadata": {},
   "outputs": [
    {
     "name": "stdout",
     "output_type": "stream",
     "text": [
      "Expected: a sequence containing [<1>, <2>, <4>]\n",
      "     but: item 2: was <3>\n"
     ]
    }
   ],
   "source": [
    "with show_assert():\n",
    "    assert_that(\n",
    "        [1, 2, 3],\n",
    "        contains_exactly(1, 2, 4)\n",
    "    )"
   ]
  },
  {
   "cell_type": "markdown",
   "metadata": {},
   "source": [
    "```{=latex}\n",
    "\\end{frame}\n",
    "```"
   ]
  },
  {
   "cell_type": "markdown",
   "metadata": {},
   "source": [
    "```{=latex}\n",
    "\\begin{frame}[fragile]\n",
    "\\frametitle{Any Order}\n",
    "```"
   ]
  },
  {
   "cell_type": "code",
   "execution_count": 154,
   "metadata": {},
   "outputs": [
    {
     "name": "stdout",
     "output_type": "stream",
     "text": [
      "Expected: a sequence over [<4>, <3>, <1>] in any\n",
      "order\n",
      "     but: not matched: <2>\n"
     ]
    }
   ],
   "source": [
    "with show_assert():\n",
    "    assert_that(\n",
    "        [1, 2, 3],\n",
    "        contains_inanyorder(4, 3, 1)\n",
    "    )"
   ]
  },
  {
   "cell_type": "markdown",
   "metadata": {},
   "source": [
    "```{=latex}\n",
    "\\end{frame}\n",
    "```"
   ]
  },
  {
   "cell_type": "markdown",
   "metadata": {},
   "source": [
    "### Arbitrary boolean expressions"
   ]
  },
  {
   "cell_type": "markdown",
   "metadata": {},
   "source": [
    "```{=latex}\n",
    "\\begin{frame}[fragile]\n",
    "\\frametitle{Boolean Expressions}\n",
    "```"
   ]
  },
  {
   "cell_type": "code",
   "execution_count": 155,
   "metadata": {},
   "outputs": [],
   "source": [
    "def xor(condition1, condition2):\n",
    "    return all_of(\n",
    "        any_of(condition1, condition2),\n",
    "        any_of(not_(condition1), not_(condition2))\n",
    "    )"
   ]
  },
  {
   "cell_type": "markdown",
   "metadata": {},
   "source": [
    "```{=latex}\n",
    "\\end{frame}\n",
    "```"
   ]
  },
  {
   "cell_type": "markdown",
   "metadata": {},
   "source": [
    "```{=latex}\n",
    "\\begin{frame}[fragile]\n",
    "\\frametitle{Boolean Expressions}\n",
    "```"
   ]
  },
  {
   "cell_type": "code",
   "execution_count": 155,
   "metadata": {},
   "outputs": [
    {
     "name": "stdout",
     "output_type": "stream",
     "text": [
      "Expected: ((a sequence containing <1> or a\n",
      "sequence containing <2>) and (not a sequence\n",
      "containing <1> or not a sequence containing <2>))\n",
      "     but: (not a sequence containing <1> or not a\n",
      "sequence containing <2>) was <[1, 2, 3]>\n"
     ]
    }
   ],
   "source": [
    "with show_assert():\n",
    "    assert_that(\n",
    "        [1,2, 3],\n",
    "        xor(\n",
    "            has_item(1),\n",
    "            has_item(2)\n",
    "        )\n",
    "    )"
   ]
  },
  {
   "cell_type": "markdown",
   "metadata": {},
   "source": [
    "```{=latex}\n",
    "\\end{frame}\n",
    "```"
   ]
  },
  {
   "cell_type": "markdown",
   "metadata": {},
   "source": [
    "### Floating point"
   ]
  },
  {
   "cell_type": "markdown",
   "metadata": {},
   "source": [
    "```{=latex}\n",
    "\\begin{frame}[fragile]\n",
    "\\frametitle{Floating Point Numbers}\n",
    "```"
   ]
  },
  {
   "cell_type": "code",
   "execution_count": 156,
   "metadata": {},
   "outputs": [
    {
     "name": "stdout",
     "output_type": "stream",
     "text": [
      "Expected: a numeric value within <1e-05> of <1>\n",
      "     but: <2.7755575615628914e-17> differed by\n",
      "<1.0>\n"
     ]
    }
   ],
   "source": [
    "with show_assert():\n",
    "    assert_that(\n",
    "        0.1 + 0.2 - 0.1 - 0.2,\n",
    "        close_to(1, 0.00001)\n",
    "    )"
   ]
  },
  {
   "cell_type": "markdown",
   "metadata": {},
   "source": [
    "```{=latex}\n",
    "\\end{frame}\n",
    "```"
   ]
  },
  {
   "cell_type": "markdown",
   "metadata": {},
   "source": [
    "### String checking"
   ]
  },
  {
   "cell_type": "markdown",
   "metadata": {},
   "source": [
    "```{=latex}\n",
    "\\begin{frame}[fragile]\n",
    "\\frametitle{Strong Checking}\n",
    "```"
   ]
  },
  {
   "cell_type": "code",
   "execution_count": 176,
   "metadata": {},
   "outputs": [
    {
     "name": "stdout",
     "output_type": "stream",
     "text": [
      "Expected: a string containing 'hello', 'world',\n",
      "'i' in order\n",
      "     but: was 'hello beautifiul world'\n"
     ]
    }
   ],
   "source": [
    "with show_assert():\n",
    "    assert_that(\n",
    "        \"hello beautifiul world\",\n",
    "        string_contains_in_order(\n",
    "            \"hello\", \"world\", \"i\"\n",
    "        )\n",
    "    )"
   ]
  },
  {
   "cell_type": "markdown",
   "metadata": {},
   "source": [
    "```{=latex}\n",
    "\\end{frame}\n",
    "```"
   ]
  },
  {
   "cell_type": "markdown",
   "metadata": {},
   "source": [
    "### Dictionary checking"
   ]
  },
  {
   "cell_type": "markdown",
   "metadata": {},
   "source": [
    "```{=latex}\n",
    "\\begin{frame}[fragile]\n",
    "\\frametitle{Dictionary}\n",
    "```"
   ]
  },
  {
   "cell_type": "code",
   "execution_count": 177,
   "metadata": {},
   "outputs": [
    {
     "name": "stdout",
     "output_type": "stream",
     "text": [
      "Expected: a dictionary containing ['value': a\n",
      "numeric value within <0.3> of <0.5>]\n",
      "     but: was <{'value': 1}>\n"
     ]
    }
   ],
   "source": [
    "with show_assert():\n",
    "    assert_that(\n",
    "        dict(value=1),\n",
    "        has_entry(\"value\", close_to(0.5, 0.3))\n",
    "    )"
   ]
  },
  {
   "cell_type": "markdown",
   "metadata": {},
   "source": [
    "```{=latex}\n",
    "\\end{frame}\n",
    "```"
   ]
  },
  {
   "cell_type": "markdown",
   "metadata": {},
   "source": [
    "## Custom Matchers"
   ]
  },
  {
   "cell_type": "markdown",
   "metadata": {},
   "source": [
    "### Concept"
   ]
  },
  {
   "cell_type": "markdown",
   "metadata": {},
   "source": [
    "```{=latex}\n",
    "\\begin{frame}[fragile]\n",
    "\\frametitle{What Is a Custom Matcher}\n",
    "\n",
    "Arbitrary condition \\pause\n",
    "\n",
    "Arbitrary description\n",
    "\n",
    "\\end{frame}\n",
    "```"
   ]
  },
  {
   "cell_type": "code",
   "execution_count": 159,
   "metadata": {},
   "outputs": [],
   "source": [
    "from hamcrest.core.base_matcher import BaseMatcher\n",
    "from hamcrest.core.helpers.hasmethod import hasmethod\n",
    "from hamcrest.core.helpers.wrap_matcher import wrap_matcher"
   ]
  },
  {
   "cell_type": "markdown",
   "metadata": {},
   "source": [
    "### Simple example: prime number"
   ]
  },
  {
   "cell_type": "markdown",
   "metadata": {},
   "source": [
    "```{=latex}\n",
    "\\begin{frame}[fragile]\n",
    "\\frametitle{Primaily Assertion}\n",
    "```"
   ]
  },
  {
   "cell_type": "code",
   "execution_count": 178,
   "metadata": {},
   "outputs": [],
   "source": [
    "class IsPrime(BaseMatcher):\n",
    "    def _matches(self, num):\n",
    "        for factor in range(1, int(num ** 0.5) + 1):\n",
    "            if num % factor == 0:\n",
    "                return False\n",
    "        return True\n",
    "    def describe_to(self, description):\n",
    "        description.append(\"prime number\")"
   ]
  },
  {
   "cell_type": "code",
   "execution_count": 179,
   "metadata": {},
   "outputs": [],
   "source": [
    "def is_prime():\n",
    "    return IsPrime()"
   ]
  },
  {
   "cell_type": "markdown",
   "metadata": {},
   "source": [
    "```{=latex}\n",
    "\\end{frame}\n",
    "```"
   ]
  },
  {
   "cell_type": "markdown",
   "metadata": {},
   "source": [
    "### Simple example use: prime number"
   ]
  },
  {
   "cell_type": "markdown",
   "metadata": {},
   "source": [
    "```{=latex}\n",
    "\\begin{frame}[fragile]\n",
    "\\frametitle{Primaily Assertion}\n",
    "```"
   ]
  },
  {
   "cell_type": "code",
   "execution_count": 180,
   "metadata": {},
   "outputs": [
    {
     "name": "stdout",
     "output_type": "stream",
     "text": [
      "Expected: prime number\n",
      "     but: was <6>\n"
     ]
    }
   ],
   "source": [
    "with show_assert():\n",
    "    assert_that(6, is_prime())"
   ]
  },
  {
   "cell_type": "markdown",
   "metadata": {},
   "source": [
    "```{=latex}\n",
    "\\end{frame}\n",
    "```"
   ]
  },
  {
   "cell_type": "markdown",
   "metadata": {},
   "source": [
    "### Example: Sequence contains in order"
   ]
  },
  {
   "cell_type": "markdown",
   "metadata": {},
   "source": [
    "```{=latex}\n",
    "\\begin{frame}[fragile]\n",
    "\\frametitle{Contains in Order}\n",
    "```"
   ]
  },
  {
   "cell_type": "code",
   "execution_count": 163,
   "metadata": {},
   "outputs": [],
   "source": [
    "class HasItemsInOrder(BaseMatcher):\n",
    "    def __init__(self, matchers):\n",
    "        self.matchers = matchers"
   ]
  },
  {
   "cell_type": "markdown",
   "metadata": {},
   "source": [
    "```{=latex}\n",
    "\\end{frame}\n",
    "```"
   ]
  },
  {
   "cell_type": "markdown",
   "metadata": {},
   "source": [
    "```{=latex}\n",
    "\\begin{frame}[fragile]\n",
    "\\frametitle{Matching}\n",
    "```"
   ]
  },
  {
   "cell_type": "code",
   "execution_count": 164,
   "metadata": {},
   "outputs": [],
   "source": [
    "def _matches(self, sequence):\n",
    "    things = iter(sequence)\n",
    "    for matcher in self.matchers:\n",
    "        for thing in things:\n",
    "            if matcher.matches(thing):\n",
    "                break\n",
    "        else:\n",
    "            return False\n",
    "    return True\n",
    "HasItemsInOrder._matches = _matches"
   ]
  },
  {
   "cell_type": "markdown",
   "metadata": {},
   "source": [
    "```{=latex}\n",
    "\\end{frame}\n",
    "```"
   ]
  },
  {
   "cell_type": "markdown",
   "metadata": {},
   "source": [
    "```{=latex}\n",
    "\\begin{frame}[fragile]\n",
    "\\frametitle{Describing}\n",
    "```"
   ]
  },
  {
   "cell_type": "code",
   "execution_count": 181,
   "metadata": {},
   "outputs": [],
   "source": [
    "def describe_to(self, description):\n",
    "    description.append_text(\n",
    "        \"a sequence containing \"\n",
    "    )\n",
    "    for matcher in self.matchers[:-1]:\n",
    "        description.append_description_of(matcher)\n",
    "        description.append_text(\" followed by \")\n",
    "    description.append_description_of(\n",
    "        self.matchers[-1]\n",
    "    )\n",
    "HasItemsInOrder.describe_to = describe_to    "
   ]
  },
  {
   "cell_type": "markdown",
   "metadata": {},
   "source": [
    "```{=latex}\n",
    "\\end{frame}\n",
    "```"
   ]
  },
  {
   "cell_type": "markdown",
   "metadata": {},
   "source": [
    "```{=latex}\n",
    "\\begin{frame}[fragile]\n",
    "\\frametitle{Wrapping}\n",
    "```"
   ]
  },
  {
   "cell_type": "code",
   "execution_count": 185,
   "metadata": {},
   "outputs": [],
   "source": [
    "def has_items_in_order(*matchers):\n",
    "    return HasItemsInOrder(\n",
    "        [wrap_matcher(matcher)\n",
    "         for matcher in matchers\n",
    "        ]\n",
    "    )"
   ]
  },
  {
   "cell_type": "markdown",
   "metadata": {},
   "source": [
    "```{=latex}\n",
    "\\end{frame}\n",
    "```"
   ]
  },
  {
   "cell_type": "markdown",
   "metadata": {},
   "source": [
    "### Use: Sequence contains in order on dequeu"
   ]
  },
  {
   "cell_type": "code",
   "execution_count": 183,
   "metadata": {},
   "outputs": [],
   "source": [
    "from collections import deque"
   ]
  },
  {
   "cell_type": "markdown",
   "metadata": {},
   "source": [
    "```{=latex}\n",
    "\\begin{frame}[fragile]\n",
    "\\frametitle{Using}\n",
    "```"
   ]
  },
  {
   "cell_type": "code",
   "execution_count": 184,
   "metadata": {},
   "outputs": [
    {
     "name": "stdout",
     "output_type": "stream",
     "text": [
      "Expected: (a sequence containing <1> followed by\n",
      "<3> or a sequence containing <2> followed by <1>)\n",
      "     but: was <deque([1, 5, 2])>\n"
     ]
    }
   ],
   "source": [
    "with show_assert():\n",
    "    assert_that(\n",
    "        deque([1, 5, 2]),\n",
    "        any_of(\n",
    "            has_items_in_order(1, 3),\n",
    "            has_items_in_order(2, 1),\n",
    "        )\n",
    "    )"
   ]
  },
  {
   "cell_type": "markdown",
   "metadata": {},
   "source": [
    "```{=latex}\n",
    "\\end{frame}\n",
    "```"
   ]
  },
  {
   "cell_type": "markdown",
   "metadata": {},
   "source": [
    "## Subtle PyHamcrest Examples"
   ]
  },
  {
   "cell_type": "markdown",
   "metadata": {},
   "source": [
    "### Check output from code"
   ]
  },
  {
   "cell_type": "markdown",
   "metadata": {},
   "source": [
    "```{=latex}\n",
    "\\begin{frame}[fragile]\n",
    "\\frametitle{Checking Output from Code}\n",
    "```"
   ]
  },
  {
   "cell_type": "code",
   "execution_count": 191,
   "metadata": {},
   "outputs": [],
   "source": [
    "ANSWER = 42\n",
    "FACTOR = 10\n",
    "\n",
    "def greet(user):\n",
    "    print(\"Greetings, \", user)\n",
    "    print(\n",
    "        \"The ultimate answer is\",\n",
    "        ANSWER,\n",
    "        \"as you might know\"\n",
    "    )\n",
    "    print(\n",
    "        \"Mulitplying it by\",\n",
    "        FACTOR,\n",
    "        \"you get the important concept\\n\",\n",
    "        FACTOR * ANSWER\n",
    "    )"
   ]
  },
  {
   "cell_type": "markdown",
   "metadata": {},
   "source": [
    "```{=latex}\n",
    "\\end{frame}\n",
    "```"
   ]
  },
  {
   "cell_type": "markdown",
   "metadata": {},
   "source": [
    "```{=latex}\n",
    "\\begin{frame}[fragile]\n",
    "\\frametitle{Checking Output from Code}\n",
    "```"
   ]
  },
  {
   "cell_type": "code",
   "execution_count": 192,
   "metadata": {},
   "outputs": [
    {
     "name": "stdout",
     "output_type": "stream",
     "text": [
      "Greetings,  pyjamas\n",
      "The ultimate answer is 42 as you might know\n",
      "Mulitplying it by 10 you get the important concept\n",
      " 420\n"
     ]
    }
   ],
   "source": [
    "greet(\"pyjamas\")"
   ]
  },
  {
   "cell_type": "markdown",
   "metadata": {},
   "source": [
    "```{=latex}\n",
    "\\end{frame}\n",
    "```"
   ]
  },
  {
   "cell_type": "code",
   "execution_count": 188,
   "metadata": {},
   "outputs": [],
   "source": [
    "from unittest import mock\n",
    "import io"
   ]
  },
  {
   "cell_type": "markdown",
   "metadata": {},
   "source": [
    "```{=latex}\n",
    "\\begin{frame}[fragile]\n",
    "\\frametitle{Checking Output from Code}\n",
    "```"
   ]
  },
  {
   "cell_type": "code",
   "execution_count": 189,
   "metadata": {},
   "outputs": [
    {
     "name": "stdout",
     "output_type": "stream",
     "text": [
      "Expected: a string containing 'Someone', '42',\n",
      "'420' in order\n",
      "     but: was 'Greetings,  someone\\nThe ultimate\n",
      "answer is 42 as you might know\\nMulitplying it by\n",
      "10 you get the important concept 420\\n'\n"
     ]
    }
   ],
   "source": [
    "with show_assert():\n",
    "    with mock.patch(\"sys.stdout\", new=io.StringIO()) as stdout:\n",
    "        greet(\"someone\")\n",
    "    output = stdout.getvalue()\n",
    "    assert_that(\n",
    "        output,\n",
    "        string_contains_in_order(\n",
    "            \"Someone\",\n",
    "            \"42\",\n",
    "            \"420\"\n",
    "        )\n",
    "    )"
   ]
  },
  {
   "cell_type": "markdown",
   "metadata": {},
   "source": [
    "```{=latex}\n",
    "\\end{frame}\n",
    "```"
   ]
  },
  {
   "cell_type": "markdown",
   "metadata": {},
   "source": [
    "### Combining assertions"
   ]
  },
  {
   "cell_type": "markdown",
   "metadata": {},
   "source": [
    "```{=latex}\n",
    "\\begin{frame}[fragile]\n",
    "\\frametitle{Combining Assertions}\n",
    "```"
   ]
  },
  {
   "cell_type": "code",
   "execution_count": 173,
   "metadata": {},
   "outputs": [
    {
     "name": "stdout",
     "output_type": "stream",
     "text": [
      "Expected: (a sequence containing a value greater\n",
      "than <3> or a sequence containing a value less\n",
      "than <1>)\n",
      "     but: was <[1, 2, 3]>\n"
     ]
    }
   ],
   "source": [
    "with show_assert():\n",
    "    assert_that(\n",
    "        [1, 2, 3],\n",
    "        any_of(\n",
    "            has_item(greater_than(3)),\n",
    "            has_item(less_than(1)),\n",
    "        )\n",
    "    )"
   ]
  },
  {
   "cell_type": "markdown",
   "metadata": {},
   "source": [
    "```{=latex}\n",
    "\\end{frame}\n",
    "```"
   ]
  },
  {
   "cell_type": "markdown",
   "metadata": {},
   "source": [
    "### Checking datastructure equivalence"
   ]
  },
  {
   "cell_type": "markdown",
   "metadata": {},
   "source": [
    "```{=latex}\n",
    "\\begin{frame}[fragile]\n",
    "\\frametitle{Datastructures}\n",
    "```"
   ]
  },
  {
   "cell_type": "code",
   "execution_count": 174,
   "metadata": {},
   "outputs": [
    {
     "name": "stdout",
     "output_type": "stream",
     "text": [
      "Expected: a dictionary containing {'goodbye': not\n",
      "a string ending with '!', 'hello': a string ending\n",
      "with '!'}\n",
      "     but: value for 'hello' was 'Greeting'\n"
     ]
    }
   ],
   "source": [
    "with show_assert():\n",
    "    assert_that(\n",
    "        dict(hello=\"Greeting\", goodbye=\"Farewell\"),\n",
    "        has_entries(\n",
    "            hello=ends_with(\"!\"),\n",
    "            goodbye=not_(ends_with(\"!\")),\n",
    "        )\n",
    "    )"
   ]
  },
  {
   "cell_type": "markdown",
   "metadata": {},
   "source": [
    "```{=latex}\n",
    "\\end{frame}\n",
    "```"
   ]
  },
  {
   "cell_type": "markdown",
   "metadata": {},
   "source": [
    "## Conclusion"
   ]
  },
  {
   "cell_type": "markdown",
   "metadata": {},
   "source": [
    "```{=latex}\n",
    "\\begin{frame}\n",
    "\\frametitle{Take Aways}\n",
    "\n",
    "Test what is promised \\pause\n",
    "\n",
    "Do not test what is not \\pause\n",
    "\n",
    "Hamcrest helps you to do that\n",
    "\n",
    "\\end{frame}\n",
    "```"
   ]
  },
  {
   "cell_type": "markdown",
   "metadata": {},
   "source": [
    "```{=latex}\n",
    "\\end{document}\n",
    "```"
   ]
  },
  {
   "cell_type": "code",
   "execution_count": null,
   "metadata": {},
   "outputs": [],
   "source": []
  },
  {
   "cell_type": "code",
   "execution_count": null,
   "metadata": {},
   "outputs": [],
   "source": []
  }
 ],
 "metadata": {
  "kernelspec": {
   "display_name": "jupyter-incident",
   "language": "python",
   "name": "jupyter-incident-venv"
  },
  "language_info": {
   "codemirror_mode": {
    "name": "ipython",
    "version": 3
   },
   "file_extension": ".py",
   "mimetype": "text/x-python",
   "name": "python",
   "nbconvert_exporter": "python",
   "pygments_lexer": "ipython3",
   "version": "3.8.3"
  }
 },
 "nbformat": 4,
 "nbformat_minor": 4
}
