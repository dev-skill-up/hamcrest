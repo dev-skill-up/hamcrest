{
 "cells": [
  {
   "cell_type": "markdown",
   "metadata": {},
   "source": [
    "```{=latex}\n",
    "\\usepackage{hyperref}\n",
    "\\usepackage{graphicx}\n",
    "\\usepackage{listings}\n",
    "\\usepackage{textcomp}\n",
    "\\usepackage{fancyvrb}\n",
    "\n",
    "\\newcommand{\\passthrough}[1]{\\lstset{mathescape=false}#1\\lstset{mathescape=true}}\n",
    "```"
   ]
  },
  {
   "cell_type": "markdown",
   "metadata": {},
   "source": [
    "```{=latex}\n",
    "\\title{PyHamcrest: Check What You Want to Check}\n",
    "\\author{Moshe Zadka -- https://cobordism.com}\n",
    "\\date{2020}\n",
    "\n",
    "\\begin{document}\n",
    "\\begin{titlepage}\n",
    "\\maketitle\n",
    "\\end{titlepage}\n",
    "\n",
    "\\frame{\\titlepage}\n",
    "```"
   ]
  },
  {
   "cell_type": "code",
   "execution_count": 13,
   "metadata": {},
   "outputs": [],
   "source": [
    "from hamcrest import *"
   ]
  },
  {
   "cell_type": "code",
   "execution_count": 14,
   "metadata": {},
   "outputs": [],
   "source": [
    "import contextlib\n",
    "\n",
    "@contextlib.contextmanager\n",
    "def show_assert():\n",
    "    try:\n",
    "        yield\n",
    "    except AssertionError as exc:\n",
    "        print(exc)"
   ]
  },
  {
   "cell_type": "code",
   "execution_count": 15,
   "metadata": {},
   "outputs": [
    {
     "name": "stdout",
     "output_type": "stream",
     "text": [
      "hello\n"
     ]
    }
   ],
   "source": [
    "with show_assert():\n",
    "    assert False, \"hello\""
   ]
  },
  {
   "cell_type": "markdown",
   "metadata": {},
   "source": [
    "```{=latex}\n",
    "\\begin{frame}\n",
    "\\frametitle{Acknowledgement of Country}\n",
    "\n",
    "Belmont (in San Francisco Bay Area Peninsula)\n",
    "\n",
    "Ancestral homeland of the Ramaytush Ohlone\n",
    "\n",
    "\\end{frame}\n",
    "```"
   ]
  },
  {
   "cell_type": "markdown",
   "metadata": {},
   "source": [
    "## Unit tests and Assertions"
   ]
  },
  {
   "cell_type": "markdown",
   "metadata": {},
   "source": [
    "### Rough definition of unit tests"
   ]
  },
  {
   "cell_type": "markdown",
   "metadata": {},
   "source": [
    "```{=latex}\n",
    "\\begin{frame}\n",
    "\\frametitle{What Is a Unit Test?}\n",
    "\n",
    "\\pause\n",
    "\n",
    "Isolation? \\pause\n",
    "\n",
    "Fast? \\pause\n",
    "\n",
    "Small System-Under-Test?\n",
    "\n",
    "\n",
    "\\end{frame}\n",
    "```"
   ]
  },
  {
   "cell_type": "markdown",
   "metadata": {},
   "source": [
    "### Why assert?"
   ]
  },
  {
   "cell_type": "markdown",
   "metadata": {},
   "source": [
    "```{=latex}\n",
    "\\begin{frame}\n",
    "\\frametitle{Python Unit Test Anatomy}\n",
    "\n",
    "\\begin{itemize}\n",
    "\\item Runner (nose, pytest, virtue, etc.)\n",
    "\\item Test case (unittest.TestCase, testtools.TestCase, etc.)\n",
    "\\item Assertions (pytest assert rewriting, unittest.TestCase.assert_, testtools.TestCase.assert_that)\n",
    "\\end{itemize}\n",
    "\n",
    "\\end{frame}\n",
    "\n",
    "```"
   ]
  },
  {
   "cell_type": "markdown",
   "metadata": {},
   "source": [
    "```{=latex}\n",
    "\\begin{frame}\n",
    "\\frametitle{All-in-one or A-la-carte?}\n",
    "\n",
    "\\begin{itemize}\n",
    "\\item All in one: pytest, testtools, unittest\n",
    "\\item A-la-carte runners: nose, virtue\n",
    "\\item A-la-carte assertions: hamcrest\n",
    "\\end{itemize}\n",
    "\n",
    "\\end{frame}\n",
    "\n",
    "```"
   ]
  },
  {
   "cell_type": "markdown",
   "metadata": {},
   "source": [
    "```{=latex}\n",
    "\\begin{frame}\n",
    "\\frametitle{Hamcrest Composability}\n",
    "\n",
    "\\begin{itemize}\n",
    "\\item Works in any runner\n",
    "\\item Works with any test case\n",
    "\\item Focuses on just assertions\n",
    "\\end{itemize}\n",
    "\n",
    "\\end{frame}\n",
    "\n",
    "```"
   ]
  },
  {
   "cell_type": "markdown",
   "metadata": {},
   "source": [
    "### Bad test one: False alarm"
   ]
  },
  {
   "cell_type": "markdown",
   "metadata": {},
   "source": [
    "```{=latex}\n",
    "\\begin{frame}\n",
    "\\frametitle{Bad Unit Test One: False Alarm}\n",
    "\n",
    "AKA: False positive, Type I Error, Boy Who Cried Wolf\n",
    "\n",
    "Asserting things that don't have to be true\n",
    "\n",
    "\\end{frame}\n",
    "\n",
    "```"
   ]
  },
  {
   "cell_type": "markdown",
   "metadata": {},
   "source": [
    "### Bad test two: Missing alarm"
   ]
  },
  {
   "cell_type": "markdown",
   "metadata": {},
   "source": [
    "```{=latex}\n",
    "\\begin{frame}\n",
    "\\frametitle{Bad Unit Test Two: Missing Alarm}\n",
    "\n",
    "AKA: False negative, Type II Error, Boy Who Cried Wolf But Nobody Believed Him\n",
    "\n",
    "Not asserting things that have to be true\n",
    "\n",
    "\\end{frame}\n",
    "\n",
    "```"
   ]
  },
  {
   "cell_type": "markdown",
   "metadata": {},
   "source": [
    "### Thinking of unit test value"
   ]
  },
  {
   "cell_type": "markdown",
   "metadata": {},
   "source": [
    "```{=latex}\n",
    "\\begin{frame}\n",
    "\\frametitle{Unit Test (Suite) Value}\n",
    "```"
   ]
  },
  {
   "cell_type": "code",
   "execution_count": 16,
   "metadata": {},
   "outputs": [],
   "source": [
    "def f_score(\n",
    "        beta,          # 1 if False Alarms / Missing Alarms are equally bad\n",
    "                       # Other common values: 2 (Missing Alarms matter more),\n",
    "                       #                      0.5 (False Alarms matter more)\n",
    "        true_alarm,    # Test runs that caught a bug\n",
    "        false_alarm,   # Test runs that failed without a bug\n",
    "        missing_alarm, # Bugs not caught\n",
    "    ):\n",
    "        numerator = (1 + beta**2) * true_alarm\n",
    "        denominator = numerator + beta**2 * missing_alarm + false_alarm\n",
    "        return numerator / denominator"
   ]
  },
  {
   "cell_type": "markdown",
   "metadata": {},
   "source": [
    "```{=latex}\n",
    "\\end{frame}\n",
    "```"
   ]
  },
  {
   "cell_type": "markdown",
   "metadata": {},
   "source": [
    "## PyHamcrest Simple Examples"
   ]
  },
  {
   "cell_type": "markdown",
   "metadata": {},
   "source": [
    "### Equality"
   ]
  },
  {
   "cell_type": "markdown",
   "metadata": {},
   "source": [
    "```{=latex}\n",
    "\\begin{frame}\n",
    "\\frametitle{Equality}\n",
    "```"
   ]
  },
  {
   "cell_type": "code",
   "execution_count": 17,
   "metadata": {},
   "outputs": [
    {
     "name": "stdout",
     "output_type": "stream",
     "text": [
      "\n",
      "Expected: <2>\n",
      "     but: was <1>\n",
      "\n"
     ]
    }
   ],
   "source": [
    "with show_assert():\n",
    "    assert_that(1, equal_to(2))"
   ]
  },
  {
   "cell_type": "markdown",
   "metadata": {},
   "source": [
    "```{=latex}\n",
    "\\end{frame}\n",
    "```"
   ]
  },
  {
   "cell_type": "markdown",
   "metadata": {},
   "source": [
    "### Sequence containment"
   ]
  },
  {
   "cell_type": "markdown",
   "metadata": {},
   "source": [
    "```{=latex}\n",
    "\\begin{frame}\n",
    "\\frametitle{Containment}\n",
    "```"
   ]
  },
  {
   "cell_type": "code",
   "execution_count": 22,
   "metadata": {},
   "outputs": [
    {
     "name": "stdout",
     "output_type": "stream",
     "text": [
      "\n",
      "Expected: a sequence containing <5>\n",
      "     but: was <[1, 2, 3]>\n",
      "\n"
     ]
    }
   ],
   "source": [
    "with show_assert():\n",
    "    assert_that([1, 2, 3], has_item(5))"
   ]
  },
  {
   "cell_type": "markdown",
   "metadata": {},
   "source": [
    "```{=latex}\n",
    "\\end{frame}\n",
    "```"
   ]
  },
  {
   "cell_type": "markdown",
   "metadata": {},
   "source": [
    "### Combination: any"
   ]
  },
  {
   "cell_type": "markdown",
   "metadata": {},
   "source": [
    "```{=latex}\n",
    "\\begin{frame}\n",
    "\\frametitle{Any}\n",
    "```"
   ]
  },
  {
   "cell_type": "code",
   "execution_count": 24,
   "metadata": {},
   "outputs": [
    {
     "name": "stdout",
     "output_type": "stream",
     "text": [
      "\n",
      "Expected: (<2> or <0>)\n",
      "     but: was <1>\n",
      "\n"
     ]
    }
   ],
   "source": [
    "with show_assert():\n",
    "    assert_that(\n",
    "        1,\n",
    "        any_of(\n",
    "          equal_to(2),\n",
    "          equal_to(0),\n",
    "        )\n",
    "    )"
   ]
  },
  {
   "cell_type": "markdown",
   "metadata": {},
   "source": [
    "```{=latex}\n",
    "\\end{frame}\n",
    "```"
   ]
  },
  {
   "cell_type": "markdown",
   "metadata": {},
   "source": [
    "### Combination: all"
   ]
  },
  {
   "cell_type": "markdown",
   "metadata": {},
   "source": [
    "```{=latex}\n",
    "\\begin{frame}\n",
    "\\frametitle{All}\n",
    "```"
   ]
  },
  {
   "cell_type": "code",
   "execution_count": 26,
   "metadata": {},
   "outputs": [
    {
     "name": "stdout",
     "output_type": "stream",
     "text": [
      "\n",
      "Expected: (a sequence containing <1> and a sequence containing <4>)\n",
      "     but: a sequence containing <4> was <[1, 2, 3]>\n",
      "\n"
     ]
    }
   ],
   "source": [
    "with show_assert():\n",
    "    assert_that(\n",
    "        [1, 2, 3],\n",
    "        all_of(\n",
    "          has_item(1),\n",
    "          has_item(4),\n",
    "        )\n",
    "    )"
   ]
  },
  {
   "cell_type": "markdown",
   "metadata": {},
   "source": [
    "```{=latex}\n",
    "\\end{frame}\n",
    "```"
   ]
  },
  {
   "cell_type": "markdown",
   "metadata": {},
   "source": [
    "### Composability"
   ]
  },
  {
   "cell_type": "markdown",
   "metadata": {},
   "source": [
    "```{=latex}\n",
    "\\begin{frame}\n",
    "\\frametitle{Compose}\n",
    "```"
   ]
  },
  {
   "cell_type": "code",
   "execution_count": 28,
   "metadata": {},
   "outputs": [
    {
     "name": "stdout",
     "output_type": "stream",
     "text": [
      "\n",
      "Expected: a sequence containing a sequence containing <5>\n",
      "     but: was <[[1, 2], [3, 4]]>\n",
      "\n"
     ]
    }
   ],
   "source": [
    "with show_assert():\n",
    "    assert_that(\n",
    "        [[1, 2], [3, 4]],\n",
    "        has_item(\n",
    "          has_item(5),\n",
    "        )\n",
    "    )"
   ]
  },
  {
   "cell_type": "markdown",
   "metadata": {},
   "source": [
    "```{=latex}\n",
    "\\end{frame}\n",
    "```"
   ]
  },
  {
   "cell_type": "markdown",
   "metadata": {},
   "source": [
    "## PyHamcrest Precision"
   ]
  },
  {
   "cell_type": "markdown",
   "metadata": {},
   "source": [
    "### Order vs. Unorder"
   ]
  },
  {
   "cell_type": "markdown",
   "metadata": {},
   "source": [
    "```{=latex}\n",
    "\\begin{frame}\n",
    "\\frametitle{Order}\n",
    "```"
   ]
  },
  {
   "cell_type": "code",
   "execution_count": 31,
   "metadata": {},
   "outputs": [
    {
     "name": "stdout",
     "output_type": "stream",
     "text": [
      "\n",
      "Expected: a sequence containing [<1>, <2>, <4>]\n",
      "     but: item 2: was <3>\n",
      "\n"
     ]
    }
   ],
   "source": [
    "with show_assert():\n",
    "    assert_that(\n",
    "        [1, 2, 3],\n",
    "        contains_exactly(1, 2, 4)\n",
    "    )"
   ]
  },
  {
   "cell_type": "markdown",
   "metadata": {},
   "source": [
    "```{=latex}\n",
    "\\end{frame}\n",
    "```"
   ]
  },
  {
   "cell_type": "markdown",
   "metadata": {},
   "source": [
    "```{=latex}\n",
    "\\begin{frame}\n",
    "\\frametitle{Any Order}\n",
    "```"
   ]
  },
  {
   "cell_type": "code",
   "execution_count": 33,
   "metadata": {},
   "outputs": [
    {
     "name": "stdout",
     "output_type": "stream",
     "text": [
      "\n",
      "Expected: a sequence over [<4>, <3>, <1>] in any order\n",
      "     but: not matched: <2>\n",
      "\n"
     ]
    }
   ],
   "source": [
    "with show_assert():\n",
    "    assert_that(\n",
    "        [1, 2, 3],\n",
    "        contains_inanyorder(4, 3, 1)\n",
    "    )"
   ]
  },
  {
   "cell_type": "markdown",
   "metadata": {},
   "source": [
    "```{=latex}\n",
    "\\end{frame}\n",
    "```"
   ]
  },
  {
   "cell_type": "markdown",
   "metadata": {},
   "source": [
    "### Arbitrary boolean expressions"
   ]
  },
  {
   "cell_type": "markdown",
   "metadata": {},
   "source": [
    "```{=latex}\n",
    "\\begin{frame}\n",
    "\\frametitle{Boolean Expressions}\n",
    "```"
   ]
  },
  {
   "cell_type": "code",
   "execution_count": 34,
   "metadata": {},
   "outputs": [
    {
     "name": "stdout",
     "output_type": "stream",
     "text": [
      "\n",
      "Expected: ((a sequence containing <1> or a sequence containing <2>) and (not a sequence containing <1> or not a sequence containing <2>))\n",
      "     but: (not a sequence containing <1> or not a sequence containing <2>) was <[1, 2, 3]>\n",
      "\n"
     ]
    }
   ],
   "source": [
    "def xor(condition1, condition2):\n",
    "    return all_of(\n",
    "        any_of(condition1, condition2),\n",
    "        any_of(not_(condition1), not_(condition2))\n",
    "    )\n",
    "\n",
    "with show_assert():\n",
    "    assert_that(\n",
    "        [1,2, 3],\n",
    "        xor(\n",
    "            has_item(1),\n",
    "            has_item(2)\n",
    "        )\n",
    "    )"
   ]
  },
  {
   "cell_type": "markdown",
   "metadata": {},
   "source": [
    "```{=latex}\n",
    "\\end{frame}\n",
    "```"
   ]
  },
  {
   "cell_type": "markdown",
   "metadata": {},
   "source": [
    "### Floating point"
   ]
  },
  {
   "cell_type": "markdown",
   "metadata": {},
   "source": [
    "```{=latex}\n",
    "\\begin{frame}\n",
    "\\frametitle{Floating Point Numbers}\n",
    "```"
   ]
  },
  {
   "cell_type": "code",
   "execution_count": 37,
   "metadata": {},
   "outputs": [
    {
     "name": "stdout",
     "output_type": "stream",
     "text": [
      "\n",
      "Expected: a numeric value within <1e-05> of <1>\n",
      "     but: <2.7755575615628914e-17> differed by <1.0>\n",
      "\n"
     ]
    }
   ],
   "source": [
    "with show_assert():\n",
    "    assert_that(\n",
    "        0.1 + 0.2 - 0.1 - 0.2,\n",
    "        close_to(1, 0.00001)\n",
    "    )"
   ]
  },
  {
   "cell_type": "markdown",
   "metadata": {},
   "source": [
    "```{=latex}\n",
    "\\end{frame}\n",
    "```"
   ]
  },
  {
   "cell_type": "markdown",
   "metadata": {},
   "source": [
    "### String checking"
   ]
  },
  {
   "cell_type": "markdown",
   "metadata": {},
   "source": [
    "```{=latex}\n",
    "\\begin{frame}\n",
    "\\frametitle{Compose}\n",
    "```"
   ]
  },
  {
   "cell_type": "code",
   "execution_count": 38,
   "metadata": {},
   "outputs": [
    {
     "name": "stdout",
     "output_type": "stream",
     "text": [
      "\n",
      "Expected: a string containing 'hello', 'world', 'i' in order\n",
      "     but: was 'hello beautifiul world'\n",
      "\n"
     ]
    }
   ],
   "source": [
    "with show_assert():\n",
    "    assert_that(\n",
    "        \"hello beautifiul world\",\n",
    "        string_contains_in_order(\"hello\", \"world\", \"i\")\n",
    "    )"
   ]
  },
  {
   "cell_type": "markdown",
   "metadata": {},
   "source": [
    "```{=latex}\n",
    "\\end{frame}\n",
    "```"
   ]
  },
  {
   "cell_type": "markdown",
   "metadata": {},
   "source": [
    "### Dictionary checking"
   ]
  },
  {
   "cell_type": "markdown",
   "metadata": {},
   "source": [
    "```{=latex}\n",
    "\\begin{frame}\n",
    "\\frametitle{Dictionary}\n",
    "```"
   ]
  },
  {
   "cell_type": "code",
   "execution_count": 41,
   "metadata": {},
   "outputs": [
    {
     "name": "stdout",
     "output_type": "stream",
     "text": [
      "\n",
      "Expected: a dictionary containing ['value': a numeric value within <0.3> of <0.5>]\n",
      "     but: was <{'value': 1}>\n",
      "\n"
     ]
    }
   ],
   "source": [
    "with show_assert():\n",
    "    assert_that(\n",
    "        dict(value=1),\n",
    "        has_entry(\"value\", close_to(0.5, 0.3))\n",
    "    )"
   ]
  },
  {
   "cell_type": "markdown",
   "metadata": {},
   "source": [
    "```{=latex}\n",
    "\\end{frame}\n",
    "```"
   ]
  },
  {
   "cell_type": "markdown",
   "metadata": {},
   "source": [
    "## Custom Matchers\n",
    "\n",
    "### Concept\n",
    "\n",
    "### Simple example: prime number\n",
    "\n",
    "### Simple example use: prime number\n",
    "\n",
    "### Example: Sequence contains in order\n",
    "\n",
    "### Use: Sequence contains in order on dequeu\n",
    "\n",
    "## Subtle PyHamcrest Examples\n",
    "\n",
    "### Check output from code\n",
    "\n",
    "### Check property on object\n",
    "\n",
    "### Combining assertions\n",
    "\n",
    "### Checking datastructure equivalence\n",
    "\n",
    "## Conclusion"
   ]
  },
  {
   "cell_type": "code",
   "execution_count": null,
   "metadata": {},
   "outputs": [],
   "source": []
  },
  {
   "cell_type": "markdown",
   "metadata": {},
   "source": [
    "```{=latex}\n",
    "\\end{document}\n",
    "```"
   ]
  },
  {
   "cell_type": "code",
   "execution_count": null,
   "metadata": {},
   "outputs": [],
   "source": []
  }
 ],
 "metadata": {
  "kernelspec": {
   "display_name": "jupyter-incident",
   "language": "python",
   "name": "jupyter-incident-venv"
  },
  "language_info": {
   "codemirror_mode": {
    "name": "ipython",
    "version": 3
   },
   "file_extension": ".py",
   "mimetype": "text/x-python",
   "name": "python",
   "nbconvert_exporter": "python",
   "pygments_lexer": "ipython3",
   "version": "3.8.3"
  }
 },
 "nbformat": 4,
 "nbformat_minor": 4
}
