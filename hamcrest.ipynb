{
 "cells": [
  {
   "cell_type": "markdown",
   "metadata": {},
   "source": [
    "```{=latex}\n",
    "\\usepackage{hyperref}\n",
    "\\usepackage{graphicx}\n",
    "\\usepackage{listings}\n",
    "\\usepackage{textcomp}\n",
    "\\usepackage{fancyvrb}\n",
    "\n",
    "\\newcommand{\\passthrough}[1]{\\lstset{mathescape=false}#1\\lstset{mathescape=true}}\n",
    "```"
   ]
  },
  {
   "cell_type": "markdown",
   "metadata": {},
   "source": [
    "```{=latex}\n",
    "\\title{PyHamcrest: Check What You Want to Check}\n",
    "\\author{Moshe Zadka -- https://cobordism.com}\n",
    "\\date{2020}\n",
    "\n",
    "\\begin{document}\n",
    "\\begin{titlepage}\n",
    "\\maketitle\n",
    "\\end{titlepage}\n",
    "\n",
    "\\frame{\\titlepage}\n",
    "```"
   ]
  },
  {
   "cell_type": "code",
   "execution_count": 69,
   "metadata": {},
   "outputs": [],
   "source": [
    "from PIL import Image\n",
    "import httpx\n",
    "import collections\n",
    "import operator\n",
    "import datetime"
   ]
  },
  {
   "cell_type": "markdown",
   "metadata": {},
   "source": [
    "```{=latex}\n",
    "\\begin{frame}\n",
    "\\frametitle{Acknowledgement of Country}\n",
    "\n",
    "Belmont (in San Francisco Bay Area Peninsula)\n",
    "\n",
    "Ancestral homeland of the Ramaytush Ohlone\n",
    "\n",
    "\\end{frame}\n",
    "```"
   ]
  },
  {
   "cell_type": "markdown",
   "metadata": {},
   "source": [
    "## Unit tests and Assertions\n",
    "\n",
    "### Rough definition of unit tests\n",
    "\n",
    "### Why assert?\n",
    "\n",
    "### Bad test one: False alarm\n",
    "\n",
    "### Bad test two: Missing alarm\n",
    "\n",
    "### Thinking of unit test value\n",
    "\n",
    "## PyHamcrest Simple Examples\n",
    "\n",
    "### Equality\n",
    "\n",
    "### Sequence containment\n",
    "\n",
    "### Combination: any\n",
    "\n",
    "### Combination: all\n",
    "\n",
    "### Composability\n",
    "\n",
    "## PyHamcrest Precision\n",
    "\n",
    "### Order vs. Unorder\n",
    "\n",
    "### Arbitrary boolean expressions\n",
    "\n",
    "### Floating point\n",
    "\n",
    "### String checking\n",
    "\n",
    "### Dictionary checking\n",
    "\n",
    "## Custom Matchers\n",
    "\n",
    "### Concept\n",
    "\n",
    "### Simple example: prime number\n",
    "\n",
    "### Simple example use: prime number\n",
    "\n",
    "### Example: Iterable contains in order\n",
    "\n",
    "### Use: Iterable contains in order on dequeu\n",
    "\n",
    "## Subtle PyHamcrest Examples\n",
    "\n",
    "### Check output from code\n",
    "\n",
    "### Check property on object\n",
    "\n",
    "### Combining assertions\n",
    "\n",
    "### Checking datastructure equivalence\n",
    "\n",
    "## Conclusion"
   ]
  },
  {
   "cell_type": "markdown",
   "metadata": {},
   "source": [
    "```{=latex}\n",
    "\\end{document}\n",
    "```"
   ]
  },
  {
   "cell_type": "code",
   "execution_count": null,
   "metadata": {},
   "outputs": [],
   "source": []
  }
 ],
 "metadata": {
  "kernelspec": {
   "display_name": "jupyter-incident",
   "language": "python",
   "name": "jupyter-incident-venv"
  },
  "language_info": {
   "codemirror_mode": {
    "name": "ipython",
    "version": 3
   },
   "file_extension": ".py",
   "mimetype": "text/x-python",
   "name": "python",
   "nbconvert_exporter": "python",
   "pygments_lexer": "ipython3",
   "version": "3.8.3"
  }
 },
 "nbformat": 4,
 "nbformat_minor": 4
}
