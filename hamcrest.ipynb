{
 "cells": [
  {
   "cell_type": "markdown",
   "metadata": {},
   "source": [
    "```{=latex}\n",
    "\\usepackage{hyperref}\n",
    "\\usepackage{graphicx}\n",
    "\\usepackage{listings}\n",
    "\\usepackage{textcomp}\n",
    "\\usepackage{fancyvrb}\n",
    "\n",
    "\\newcommand{\\passthrough}[1]{\\lstset{mathescape=false}#1\\lstset{mathescape=true}}\n",
    "```"
   ]
  },
  {
   "cell_type": "markdown",
   "metadata": {},
   "source": [
    "```{=latex}\n",
    "\\title{PyHamcrest: Check What You Want to Check}\n",
    "\\author{Moshe Zadka -- https://cobordism.com}\n",
    "\\date{2020}\n",
    "\n",
    "\\begin{document}\n",
    "\\begin{titlepage}\n",
    "\\maketitle\n",
    "\\end{titlepage}\n",
    "\n",
    "\\frame{\\titlepage}\n",
    "```"
   ]
  },
  {
   "cell_type": "code",
   "execution_count": 13,
   "metadata": {},
   "outputs": [],
   "source": [
    "from hamcrest import *"
   ]
  },
  {
   "cell_type": "code",
   "execution_count": 14,
   "metadata": {},
   "outputs": [],
   "source": [
    "import contextlib\n",
    "\n",
    "@contextlib.contextmanager\n",
    "def show_assert():\n",
    "    try:\n",
    "        yield\n",
    "    except AssertionError as exc:\n",
    "        print(exc)"
   ]
  },
  {
   "cell_type": "code",
   "execution_count": 15,
   "metadata": {},
   "outputs": [
    {
     "name": "stdout",
     "output_type": "stream",
     "text": [
      "hello\n"
     ]
    }
   ],
   "source": [
    "with show_assert():\n",
    "    assert False, \"hello\""
   ]
  },
  {
   "cell_type": "markdown",
   "metadata": {},
   "source": [
    "```{=latex}\n",
    "\\begin{frame}\n",
    "\\frametitle{Acknowledgement of Country}\n",
    "\n",
    "Belmont (in San Francisco Bay Area Peninsula)\n",
    "\n",
    "Ancestral homeland of the Ramaytush Ohlone\n",
    "\n",
    "\\end{frame}\n",
    "```"
   ]
  },
  {
   "cell_type": "markdown",
   "metadata": {},
   "source": [
    "## Unit tests and Assertions"
   ]
  },
  {
   "cell_type": "markdown",
   "metadata": {},
   "source": [
    "### Rough definition of unit tests"
   ]
  },
  {
   "cell_type": "markdown",
   "metadata": {},
   "source": [
    "```{=latex}\n",
    "\\begin{frame}\n",
    "\\frametitle{What Is a Unit Test?}\n",
    "\n",
    "\\pause\n",
    "\n",
    "Isolation? \\pause\n",
    "\n",
    "Fast? \\pause\n",
    "\n",
    "Small System-Under-Test?\n",
    "\n",
    "\n",
    "\\end{frame}\n",
    "```"
   ]
  },
  {
   "cell_type": "markdown",
   "metadata": {},
   "source": [
    "### Why assert?"
   ]
  },
  {
   "cell_type": "markdown",
   "metadata": {},
   "source": [
    "```{=latex}\n",
    "\\begin{frame}[fragile]\n",
    "\\frametitle{Python Unit Test Anatomy}\n",
    "\n",
    "\\begin{itemize}\n",
    "\\item Runner (nose, pytest, virtue, etc.)\n",
    "\\item Test case (unittest.TestCase, testtools.TestCase, etc.)\n",
    "\\item Assertions (pytest assert rewriting, \\verb|unittest.TestCase.assert_*|, \\verb\n",
    "|testtools.TestCase.assert_that|)\n",
    "\\end{itemize}\n",
    "\n",
    "\\end{frame}\n",
    "\n",
    "```"
   ]
  },
  {
   "cell_type": "markdown",
   "metadata": {},
   "source": [
    "```{=latex}\n",
    "\\begin{frame}\n",
    "\\frametitle{All-in-one or A-la-carte?}\n",
    "\n",
    "\\begin{itemize}\n",
    "\\item All in one: pytest, testtools, unittest\n",
    "\\item A-la-carte runners: nose, virtue\n",
    "\\item A-la-carte assertions: hamcrest\n",
    "\\end{itemize}\n",
    "\n",
    "\\end{frame}\n",
    "\n",
    "```"
   ]
  },
  {
   "cell_type": "markdown",
   "metadata": {},
   "source": [
    "```{=latex}\n",
    "\\begin{frame}\n",
    "\\frametitle{Hamcrest Composability}\n",
    "\n",
    "\\begin{itemize}\n",
    "\\item Works in any runner\n",
    "\\item Works with any test case\n",
    "\\item Focuses on just assertions\n",
    "\\end{itemize}\n",
    "\n",
    "\\end{frame}\n",
    "\n",
    "```"
   ]
  },
  {
   "cell_type": "markdown",
   "metadata": {},
   "source": [
    "### Bad test one: False alarm"
   ]
  },
  {
   "cell_type": "markdown",
   "metadata": {},
   "source": [
    "```{=latex}\n",
    "\\begin{frame}\n",
    "\\frametitle{Bad Unit Test One: False Alarm}\n",
    "\n",
    "AKA: False positive, Type I Error, Boy Who Cried Wolf\n",
    "\n",
    "Asserting things that don't have to be true\n",
    "\n",
    "\\end{frame}\n",
    "\n",
    "```"
   ]
  },
  {
   "cell_type": "markdown",
   "metadata": {},
   "source": [
    "### Bad test two: Missing alarm"
   ]
  },
  {
   "cell_type": "markdown",
   "metadata": {},
   "source": [
    "```{=latex}\n",
    "\\begin{frame}\n",
    "\\frametitle{Bad Unit Test Two: Missing Alarm}\n",
    "\n",
    "AKA: False negative, Type II Error, Boy Who Cried Wolf But Nobody Believed Him\n",
    "\n",
    "Not asserting things that have to be true\n",
    "\n",
    "\\end{frame}\n",
    "\n",
    "```"
   ]
  },
  {
   "cell_type": "markdown",
   "metadata": {},
   "source": [
    "### Thinking of unit test value"
   ]
  },
  {
   "cell_type": "markdown",
   "metadata": {},
   "source": [
    "```{=latex}\n",
    "\\begin{frame}[fragile]\n",
    "\\frametitle{Unit Test (Suite) Value}\n",
    "```"
   ]
  },
  {
   "cell_type": "code",
   "execution_count": 16,
   "metadata": {},
   "outputs": [],
   "source": [
    "def f_score(\n",
    "        beta,          # 1 if False Alarms / Missing Alarms are equally bad\n",
    "                       # Other common values: 2 (Missing Alarms matter more),\n",
    "                       #                      0.5 (False Alarms matter more)\n",
    "        true_alarm,    # Test runs that caught a bug\n",
    "        false_alarm,   # Test runs that failed without a bug\n",
    "        missing_alarm, # Bugs not caught\n",
    "    ):\n",
    "        numerator = (1 + beta**2) * true_alarm\n",
    "        denominator = numerator + beta**2 * missing_alarm + false_alarm\n",
    "        return numerator / denominator"
   ]
  },
  {
   "cell_type": "markdown",
   "metadata": {},
   "source": [
    "```{=latex}\n",
    "\\end{frame}\n",
    "```"
   ]
  },
  {
   "cell_type": "markdown",
   "metadata": {},
   "source": [
    "## PyHamcrest Simple Examples"
   ]
  },
  {
   "cell_type": "markdown",
   "metadata": {},
   "source": [
    "### Equality"
   ]
  },
  {
   "cell_type": "markdown",
   "metadata": {},
   "source": [
    "```{=latex}\n",
    "\\begin{frame}[fragile]\n",
    "\\frametitle{Equality}\n",
    "```"
   ]
  },
  {
   "cell_type": "code",
   "execution_count": 17,
   "metadata": {},
   "outputs": [
    {
     "name": "stdout",
     "output_type": "stream",
     "text": [
      "\n",
      "Expected: <2>\n",
      "     but: was <1>\n",
      "\n"
     ]
    }
   ],
   "source": [
    "with show_assert():\n",
    "    assert_that(1, equal_to(2))"
   ]
  },
  {
   "cell_type": "markdown",
   "metadata": {},
   "source": [
    "```{=latex}\n",
    "\\end{frame}\n",
    "```"
   ]
  },
  {
   "cell_type": "markdown",
   "metadata": {},
   "source": [
    "### Sequence containment"
   ]
  },
  {
   "cell_type": "markdown",
   "metadata": {},
   "source": [
    "```{=latex}\n",
    "\\begin{frame}[fragile]\n",
    "\\frametitle{Containment}\n",
    "```"
   ]
  },
  {
   "cell_type": "code",
   "execution_count": 112,
   "metadata": {},
   "outputs": [
    {
     "name": "stdout",
     "output_type": "stream",
     "text": [
      "\n",
      "Expected: a sequence containing <5>\n",
      "     but: was <[1, 2, 3]>\n",
      "\n"
     ]
    }
   ],
   "source": [
    "with show_assert():\n",
    "    assert_that([1, 2, 3], has_item(5))"
   ]
  },
  {
   "cell_type": "markdown",
   "metadata": {},
   "source": [
    "```{=latex}\n",
    "\\end{frame}\n",
    "```"
   ]
  },
  {
   "cell_type": "markdown",
   "metadata": {},
   "source": [
    "### Combination: any"
   ]
  },
  {
   "cell_type": "markdown",
   "metadata": {},
   "source": [
    "```{=latex}\n",
    "\\begin{frame}[fragile]\n",
    "\\frametitle{Any}\n",
    "```"
   ]
  },
  {
   "cell_type": "code",
   "execution_count": 113,
   "metadata": {},
   "outputs": [
    {
     "name": "stdout",
     "output_type": "stream",
     "text": [
      "\n",
      "Expected: (<2> or <0>)\n",
      "     but: was <1>\n",
      "\n"
     ]
    }
   ],
   "source": [
    "with show_assert():\n",
    "    assert_that(\n",
    "        1,\n",
    "        any_of(\n",
    "          equal_to(2),\n",
    "          equal_to(0),\n",
    "        )\n",
    "    )"
   ]
  },
  {
   "cell_type": "markdown",
   "metadata": {},
   "source": [
    "```{=latex}\n",
    "\\end{frame}\n",
    "```"
   ]
  },
  {
   "cell_type": "markdown",
   "metadata": {},
   "source": [
    "### Combination: all"
   ]
  },
  {
   "cell_type": "markdown",
   "metadata": {},
   "source": [
    "```{=latex}\n",
    "\\begin{frame}[fragile]\n",
    "\\frametitle{All}\n",
    "```"
   ]
  },
  {
   "cell_type": "code",
   "execution_count": 114,
   "metadata": {},
   "outputs": [
    {
     "name": "stdout",
     "output_type": "stream",
     "text": [
      "\n",
      "Expected: (a sequence containing <1> and a sequence containing <4>)\n",
      "     but: a sequence containing <4> was <[1, 2, 3]>\n",
      "\n"
     ]
    }
   ],
   "source": [
    "with show_assert():\n",
    "    assert_that(\n",
    "        [1, 2, 3],\n",
    "        all_of(\n",
    "          has_item(1),\n",
    "          has_item(4),\n",
    "        )\n",
    "    )"
   ]
  },
  {
   "cell_type": "markdown",
   "metadata": {},
   "source": [
    "```{=latex}\n",
    "\\end{frame}\n",
    "```"
   ]
  },
  {
   "cell_type": "markdown",
   "metadata": {},
   "source": [
    "### Composability"
   ]
  },
  {
   "cell_type": "markdown",
   "metadata": {},
   "source": [
    "```{=latex}\n",
    "\\begin{frame}[fragile]\n",
    "\\frametitle{Compose}\n",
    "```"
   ]
  },
  {
   "cell_type": "code",
   "execution_count": 28,
   "metadata": {},
   "outputs": [
    {
     "name": "stdout",
     "output_type": "stream",
     "text": [
      "\n",
      "Expected: a sequence containing a sequence containing <5>\n",
      "     but: was <[[1, 2], [3, 4]]>\n",
      "\n"
     ]
    }
   ],
   "source": [
    "with show_assert():\n",
    "    assert_that(\n",
    "        [[1, 2], [3, 4]],\n",
    "        has_item(\n",
    "          has_item(5),\n",
    "        )\n",
    "    )"
   ]
  },
  {
   "cell_type": "markdown",
   "metadata": {},
   "source": [
    "```{=latex}\n",
    "\\end{frame}\n",
    "```"
   ]
  },
  {
   "cell_type": "markdown",
   "metadata": {},
   "source": [
    "## PyHamcrest Precision"
   ]
  },
  {
   "cell_type": "markdown",
   "metadata": {},
   "source": [
    "### Order vs. Unorder"
   ]
  },
  {
   "cell_type": "markdown",
   "metadata": {},
   "source": [
    "```{=latex}\n",
    "\\begin{frame}\n",
    "\\frametitle{Order}\n",
    "```"
   ]
  },
  {
   "cell_type": "code",
   "execution_count": 31,
   "metadata": {},
   "outputs": [
    {
     "name": "stdout",
     "output_type": "stream",
     "text": [
      "\n",
      "Expected: a sequence containing [<1>, <2>, <4>]\n",
      "     but: item 2: was <3>\n",
      "\n"
     ]
    }
   ],
   "source": [
    "with show_assert():\n",
    "    assert_that(\n",
    "        [1, 2, 3],\n",
    "        contains_exactly(1, 2, 4)\n",
    "    )"
   ]
  },
  {
   "cell_type": "markdown",
   "metadata": {},
   "source": [
    "```{=latex}\n",
    "\\end{frame}\n",
    "```"
   ]
  },
  {
   "cell_type": "markdown",
   "metadata": {},
   "source": [
    "```{=latex}\n",
    "\\begin{frame}\n",
    "\\frametitle{Any Order}\n",
    "```"
   ]
  },
  {
   "cell_type": "code",
   "execution_count": 33,
   "metadata": {},
   "outputs": [
    {
     "name": "stdout",
     "output_type": "stream",
     "text": [
      "\n",
      "Expected: a sequence over [<4>, <3>, <1>] in any order\n",
      "     but: not matched: <2>\n",
      "\n"
     ]
    }
   ],
   "source": [
    "with show_assert():\n",
    "    assert_that(\n",
    "        [1, 2, 3],\n",
    "        contains_inanyorder(4, 3, 1)\n",
    "    )"
   ]
  },
  {
   "cell_type": "markdown",
   "metadata": {},
   "source": [
    "```{=latex}\n",
    "\\end{frame}\n",
    "```"
   ]
  },
  {
   "cell_type": "markdown",
   "metadata": {},
   "source": [
    "### Arbitrary boolean expressions"
   ]
  },
  {
   "cell_type": "markdown",
   "metadata": {},
   "source": [
    "```{=latex}\n",
    "\\begin{frame}\n",
    "\\frametitle{Boolean Expressions}\n",
    "```"
   ]
  },
  {
   "cell_type": "code",
   "execution_count": 34,
   "metadata": {},
   "outputs": [
    {
     "name": "stdout",
     "output_type": "stream",
     "text": [
      "\n",
      "Expected: ((a sequence containing <1> or a sequence containing <2>) and (not a sequence containing <1> or not a sequence containing <2>))\n",
      "     but: (not a sequence containing <1> or not a sequence containing <2>) was <[1, 2, 3]>\n",
      "\n"
     ]
    }
   ],
   "source": [
    "def xor(condition1, condition2):\n",
    "    return all_of(\n",
    "        any_of(condition1, condition2),\n",
    "        any_of(not_(condition1), not_(condition2))\n",
    "    )\n",
    "\n",
    "with show_assert():\n",
    "    assert_that(\n",
    "        [1,2, 3],\n",
    "        xor(\n",
    "            has_item(1),\n",
    "            has_item(2)\n",
    "        )\n",
    "    )"
   ]
  },
  {
   "cell_type": "markdown",
   "metadata": {},
   "source": [
    "```{=latex}\n",
    "\\end{frame}\n",
    "```"
   ]
  },
  {
   "cell_type": "markdown",
   "metadata": {},
   "source": [
    "### Floating point"
   ]
  },
  {
   "cell_type": "markdown",
   "metadata": {},
   "source": [
    "```{=latex}\n",
    "\\begin{frame}\n",
    "\\frametitle{Floating Point Numbers}\n",
    "```"
   ]
  },
  {
   "cell_type": "code",
   "execution_count": 37,
   "metadata": {},
   "outputs": [
    {
     "name": "stdout",
     "output_type": "stream",
     "text": [
      "\n",
      "Expected: a numeric value within <1e-05> of <1>\n",
      "     but: <2.7755575615628914e-17> differed by <1.0>\n",
      "\n"
     ]
    }
   ],
   "source": [
    "with show_assert():\n",
    "    assert_that(\n",
    "        0.1 + 0.2 - 0.1 - 0.2,\n",
    "        close_to(1, 0.00001)\n",
    "    )"
   ]
  },
  {
   "cell_type": "markdown",
   "metadata": {},
   "source": [
    "```{=latex}\n",
    "\\end{frame}\n",
    "```"
   ]
  },
  {
   "cell_type": "markdown",
   "metadata": {},
   "source": [
    "### String checking"
   ]
  },
  {
   "cell_type": "markdown",
   "metadata": {},
   "source": [
    "```{=latex}\n",
    "\\begin{frame}\n",
    "\\frametitle{Compose}\n",
    "```"
   ]
  },
  {
   "cell_type": "code",
   "execution_count": 38,
   "metadata": {},
   "outputs": [
    {
     "name": "stdout",
     "output_type": "stream",
     "text": [
      "\n",
      "Expected: a string containing 'hello', 'world', 'i' in order\n",
      "     but: was 'hello beautifiul world'\n",
      "\n"
     ]
    }
   ],
   "source": [
    "with show_assert():\n",
    "    assert_that(\n",
    "        \"hello beautifiul world\",\n",
    "        string_contains_in_order(\"hello\", \"world\", \"i\")\n",
    "    )"
   ]
  },
  {
   "cell_type": "markdown",
   "metadata": {},
   "source": [
    "```{=latex}\n",
    "\\end{frame}\n",
    "```"
   ]
  },
  {
   "cell_type": "markdown",
   "metadata": {},
   "source": [
    "### Dictionary checking"
   ]
  },
  {
   "cell_type": "markdown",
   "metadata": {},
   "source": [
    "```{=latex}\n",
    "\\begin{frame}\n",
    "\\frametitle{Dictionary}\n",
    "```"
   ]
  },
  {
   "cell_type": "code",
   "execution_count": 41,
   "metadata": {},
   "outputs": [
    {
     "name": "stdout",
     "output_type": "stream",
     "text": [
      "\n",
      "Expected: a dictionary containing ['value': a numeric value within <0.3> of <0.5>]\n",
      "     but: was <{'value': 1}>\n",
      "\n"
     ]
    }
   ],
   "source": [
    "with show_assert():\n",
    "    assert_that(\n",
    "        dict(value=1),\n",
    "        has_entry(\"value\", close_to(0.5, 0.3))\n",
    "    )"
   ]
  },
  {
   "cell_type": "markdown",
   "metadata": {},
   "source": [
    "```{=latex}\n",
    "\\end{frame}\n",
    "```"
   ]
  },
  {
   "cell_type": "markdown",
   "metadata": {},
   "source": [
    "## Custom Matchers"
   ]
  },
  {
   "cell_type": "markdown",
   "metadata": {},
   "source": [
    "### Concept"
   ]
  },
  {
   "cell_type": "markdown",
   "metadata": {},
   "source": [
    "```{=latex}\n",
    "\\begin{frame}\n",
    "\\frametitle{What Is a Custom Matcher}\n",
    "\n",
    "Arbitrary condition \\pause\n",
    "\n",
    "Arbitrary description\n",
    "\n",
    "\\end{frame}\n",
    "```"
   ]
  },
  {
   "cell_type": "code",
   "execution_count": 82,
   "metadata": {},
   "outputs": [],
   "source": [
    "from hamcrest.core.base_matcher import BaseMatcher\n",
    "from hamcrest.core.helpers.hasmethod import hasmethod\n",
    "from hamcrest.core.helpers.wrap_matcher import wrap_matcher"
   ]
  },
  {
   "cell_type": "markdown",
   "metadata": {},
   "source": [
    "### Simple example: prime number"
   ]
  },
  {
   "cell_type": "markdown",
   "metadata": {},
   "source": [
    "```{=latex}\n",
    "\\begin{frame}\n",
    "\\frametitle{Primaily Assertion}\n",
    "```"
   ]
  },
  {
   "cell_type": "code",
   "execution_count": 83,
   "metadata": {},
   "outputs": [],
   "source": [
    "class IsPrime(BaseMatcher):\n",
    "    def matches(self, num, description=None):\n",
    "        for factor in range(1, int(num ** 0.5) + 1):\n",
    "            if num % factor == 0:\n",
    "                if description is not None:\n",
    "                    description.append_text(f\"{factor} divides \")\n",
    "                    description.append_description_of(num)\n",
    "                return False\n",
    "        return True\n",
    "    def describe_to(self, description):\n",
    "        description.append(\"prime number\")"
   ]
  },
  {
   "cell_type": "code",
   "execution_count": 84,
   "metadata": {},
   "outputs": [],
   "source": [
    "def is_prime():\n",
    "    return IsPrime()"
   ]
  },
  {
   "cell_type": "markdown",
   "metadata": {},
   "source": [
    "```{=latex}\n",
    "\\end{frame}\n",
    "```"
   ]
  },
  {
   "cell_type": "code",
   "execution_count": 91,
   "metadata": {},
   "outputs": [],
   "source": [
    "def has_items_in_order(*matchers):\n",
    "    return HasItemsInOrder([wrap_matcher(matcher) for matcher in matchers])"
   ]
  },
  {
   "cell_type": "markdown",
   "metadata": {},
   "source": [
    "### Simple example use: prime number"
   ]
  },
  {
   "cell_type": "markdown",
   "metadata": {},
   "source": [
    "```{=latex}\n",
    "\\begin{frame}\n",
    "\\frametitle{Primaily Assertion}\n",
    "```"
   ]
  },
  {
   "cell_type": "code",
   "execution_count": 85,
   "metadata": {},
   "outputs": [
    {
     "name": "stdout",
     "output_type": "stream",
     "text": [
      "\n",
      "Expected: prime number\n",
      "     but: was <6>\n",
      "\n"
     ]
    }
   ],
   "source": [
    "with show_assert():\n",
    "    assert_that(6, is_prime())"
   ]
  },
  {
   "cell_type": "markdown",
   "metadata": {},
   "source": [
    "```{=latex}\n",
    "\\end{frame}\n",
    "```"
   ]
  },
  {
   "cell_type": "markdown",
   "metadata": {},
   "source": [
    "### Example: Sequence contains in order"
   ]
  },
  {
   "cell_type": "markdown",
   "metadata": {},
   "source": [
    "```{=latex}\n",
    "\\begin{frame}\n",
    "\\frametitle{Contains in Order}\n",
    "```"
   ]
  },
  {
   "cell_type": "code",
   "execution_count": 98,
   "metadata": {},
   "outputs": [],
   "source": [
    "class HasItemsInOrder(BaseMatcher):\n",
    "    def __init__(self, matchers):\n",
    "        self.matchers = matchers"
   ]
  },
  {
   "cell_type": "markdown",
   "metadata": {},
   "source": [
    "```{=latex}\n",
    "\\end{frame}\n",
    "```"
   ]
  },
  {
   "cell_type": "markdown",
   "metadata": {},
   "source": [
    "```{=latex}\n",
    "\\begin{frame}\n",
    "\\frametitle{Matching}\n",
    "```"
   ]
  },
  {
   "cell_type": "code",
   "execution_count": 89,
   "metadata": {},
   "outputs": [],
   "source": [
    "def _matches(self, sequence):\n",
    "    things = iter(sequence)\n",
    "    for matcher in self.matchers:\n",
    "        for thing in things:\n",
    "            if matcher.matches(thing):\n",
    "                break\n",
    "        else:\n",
    "            return False\n",
    "    return True\n",
    "HasItemsInOrder._matches = _matches"
   ]
  },
  {
   "cell_type": "markdown",
   "metadata": {},
   "source": [
    "```{=latex}\n",
    "\\end{frame}\n",
    "```"
   ]
  },
  {
   "cell_type": "markdown",
   "metadata": {},
   "source": [
    "```{=latex}\n",
    "\\begin{frame}\n",
    "\\frametitle{Describing}\n",
    "```"
   ]
  },
  {
   "cell_type": "code",
   "execution_count": 90,
   "metadata": {},
   "outputs": [],
   "source": [
    "def describe_to(self, description):\n",
    "    description.append_text(\"a sequence containing \")\n",
    "    for matcher in self.matchers[:-1]:\n",
    "        description.append_description_of(matcher)\n",
    "        description.append_text(\" followed by \")\n",
    "    description.append_description_of(self.matchers[-1])\n",
    "HasItemsInOrder.describe_to = describe_to    "
   ]
  },
  {
   "cell_type": "markdown",
   "metadata": {},
   "source": [
    "```{=latex}\n",
    "\\end{frame}\n",
    "```"
   ]
  },
  {
   "cell_type": "markdown",
   "metadata": {},
   "source": [
    "```{=latex}\n",
    "\\begin{frame}\n",
    "\\frametitle{Wrapping}\n",
    "```"
   ]
  },
  {
   "cell_type": "code",
   "execution_count": 91,
   "metadata": {},
   "outputs": [],
   "source": [
    "def has_items_in_order(*matchers):\n",
    "    return HasItemsInOrder([wrap_matcher(matcher) for matcher in matchers])"
   ]
  },
  {
   "cell_type": "markdown",
   "metadata": {},
   "source": [
    "```{=latex}\n",
    "\\end{frame}\n",
    "```"
   ]
  },
  {
   "cell_type": "markdown",
   "metadata": {},
   "source": [
    "### Use: Sequence contains in order on dequeu"
   ]
  },
  {
   "cell_type": "code",
   "execution_count": 93,
   "metadata": {},
   "outputs": [],
   "source": [
    "from collections import deque"
   ]
  },
  {
   "cell_type": "markdown",
   "metadata": {},
   "source": [
    "```{=latex}\n",
    "\\begin{frame}\n",
    "\\frametitle{Using}\n",
    "```"
   ]
  },
  {
   "cell_type": "code",
   "execution_count": 97,
   "metadata": {},
   "outputs": [
    {
     "name": "stdout",
     "output_type": "stream",
     "text": [
      "\n",
      "Expected: (a sequence containing <1> followed by <3> or a sequence containing <2> followed by <1>)\n",
      "     but: was <deque([1, 5, 2])>\n",
      "\n"
     ]
    }
   ],
   "source": [
    "with show_assert():\n",
    "    assert_that(\n",
    "        deque([1, 5, 2]),\n",
    "        any_of(\n",
    "            has_items_in_order(1, 3),\n",
    "            has_items_in_order(2, 1),\n",
    "        )\n",
    "    )"
   ]
  },
  {
   "cell_type": "markdown",
   "metadata": {},
   "source": [
    "```{=latex}\n",
    "\\end{frame}\n",
    "```"
   ]
  },
  {
   "cell_type": "markdown",
   "metadata": {},
   "source": [
    "## Subtle PyHamcrest Examples"
   ]
  },
  {
   "cell_type": "markdown",
   "metadata": {},
   "source": [
    "### Check output from code"
   ]
  },
  {
   "cell_type": "markdown",
   "metadata": {},
   "source": [
    "```{=latex}\n",
    "\\begin{frame}\n",
    "\\frametitle{Checking Output from Code}\n",
    "```"
   ]
  },
  {
   "cell_type": "code",
   "execution_count": 99,
   "metadata": {},
   "outputs": [],
   "source": [
    "ANSWER = 42\n",
    "FACTOR = 10\n",
    "\n",
    "def greet(user):\n",
    "    print(\"Greetings, \", user)\n",
    "    print(\"The ultimate answer is\", ANSWER, \"as you might know\")\n",
    "    print(\"Mulitplying it by\", FACTOR, \"you get the important concept\", FACTOR * ANSWER)"
   ]
  },
  {
   "cell_type": "code",
   "execution_count": 101,
   "metadata": {},
   "outputs": [
    {
     "name": "stdout",
     "output_type": "stream",
     "text": [
      "Greetings,  pyjamas\n",
      "The ultimate answer is 42 as you might know\n",
      "Mulitplying it by 10 you get the important concept 420\n"
     ]
    }
   ],
   "source": [
    "greet(\"pyjamas\")"
   ]
  },
  {
   "cell_type": "markdown",
   "metadata": {},
   "source": [
    "```{=latex}\n",
    "\\end{frame}\n",
    "```"
   ]
  },
  {
   "cell_type": "code",
   "execution_count": 103,
   "metadata": {},
   "outputs": [],
   "source": [
    "from unittest import mock\n",
    "import io"
   ]
  },
  {
   "cell_type": "markdown",
   "metadata": {},
   "source": [
    "```{=latex}\n",
    "\\begin{frame}\n",
    "\\frametitle{Checking Output from Code}\n",
    "```"
   ]
  },
  {
   "cell_type": "code",
   "execution_count": 108,
   "metadata": {},
   "outputs": [
    {
     "name": "stdout",
     "output_type": "stream",
     "text": [
      "\n",
      "Expected: a string containing 'Someone', '42', '420' in order\n",
      "     but: was 'Greetings,  someone\\nThe ultimate answer is 42 as you might know\\nMulitplying it by 10 you get the important concept 420\\n'\n",
      "\n"
     ]
    }
   ],
   "source": [
    "with show_assert():\n",
    "    with mock.patch(\"sys.stdout\", new=io.StringIO()) as stdout:\n",
    "        greet(\"someone\")\n",
    "    output = stdout.getvalue()\n",
    "    assert_that(\n",
    "        output,\n",
    "        string_contains_in_order(\n",
    "            \"Someone\",\n",
    "            \"42\",\n",
    "            \"420\"\n",
    "        )\n",
    "    )"
   ]
  },
  {
   "cell_type": "markdown",
   "metadata": {},
   "source": [
    "```{=latex}\n",
    "\\end{frame}\n",
    "```"
   ]
  },
  {
   "cell_type": "markdown",
   "metadata": {},
   "source": [
    "### Combining assertions"
   ]
  },
  {
   "cell_type": "markdown",
   "metadata": {},
   "source": [
    "```{=latex}\n",
    "\\begin{frame}\n",
    "\\frametitle{Combining Assertions}\n",
    "```"
   ]
  },
  {
   "cell_type": "code",
   "execution_count": 109,
   "metadata": {},
   "outputs": [
    {
     "name": "stdout",
     "output_type": "stream",
     "text": [
      "\n",
      "Expected: (a sequence containing a value greater than <3> or a sequence containing a value less than <1>)\n",
      "     but: was <[1, 2, 3]>\n",
      "\n"
     ]
    }
   ],
   "source": [
    "with show_assert():\n",
    "    assert_that(\n",
    "        [1, 2, 3],\n",
    "        any_of(\n",
    "            has_item(greater_than(3)),\n",
    "            has_item(less_than(1)),\n",
    "        )\n",
    "    )"
   ]
  },
  {
   "cell_type": "markdown",
   "metadata": {},
   "source": [
    "```{=latex}\n",
    "\\end{frame}\n",
    "```"
   ]
  },
  {
   "cell_type": "markdown",
   "metadata": {},
   "source": [
    "### Checking datastructure equivalence"
   ]
  },
  {
   "cell_type": "markdown",
   "metadata": {},
   "source": [
    "```{=latex}\n",
    "\\begin{frame}\n",
    "\\frametitle{Datastructures}\n",
    "```"
   ]
  },
  {
   "cell_type": "code",
   "execution_count": 111,
   "metadata": {},
   "outputs": [
    {
     "name": "stdout",
     "output_type": "stream",
     "text": [
      "\n",
      "Expected: a dictionary containing {'goodbye': not a string ending with '!', 'hello': a string ending with '!'}\n",
      "     but: value for 'hello' was 'Greeting'\n",
      "\n"
     ]
    }
   ],
   "source": [
    "with show_assert():\n",
    "    assert_that(\n",
    "        dict(hello=\"Greeting\", goodbye=\"Farewell\"),\n",
    "        has_entries(\n",
    "            hello=ends_with(\"!\"),\n",
    "            goodbye=not_(ends_with(\"!\")),\n",
    "        )\n",
    "    )"
   ]
  },
  {
   "cell_type": "markdown",
   "metadata": {},
   "source": [
    "```{=latex}\n",
    "\\end{frame}\n",
    "```"
   ]
  },
  {
   "cell_type": "markdown",
   "metadata": {},
   "source": [
    "## Conclusion"
   ]
  },
  {
   "cell_type": "markdown",
   "metadata": {},
   "source": [
    "```{=latex}\n",
    "\\begin{frame}\n",
    "\\frametitle{Take Aways}\n",
    "\n",
    "Test what is promised \\pause\n",
    "\n",
    "Do not test what is not \\pause\n",
    "\n",
    "Hamcrest helps you to do that\n",
    "\n",
    "\\end{frame}\n",
    "```"
   ]
  },
  {
   "cell_type": "code",
   "execution_count": null,
   "metadata": {},
   "outputs": [],
   "source": []
  },
  {
   "cell_type": "code",
   "execution_count": null,
   "metadata": {},
   "outputs": [],
   "source": []
  },
  {
   "cell_type": "markdown",
   "metadata": {},
   "source": [
    "```{=latex}\n",
    "\\end{document}\n",
    "```"
   ]
  },
  {
   "cell_type": "code",
   "execution_count": null,
   "metadata": {},
   "outputs": [],
   "source": []
  }
 ],
 "metadata": {
  "kernelspec": {
   "display_name": "jupyter-incident",
   "language": "python",
   "name": "jupyter-incident-venv"
  },
  "language_info": {
   "codemirror_mode": {
    "name": "ipython",
    "version": 3
   },
   "file_extension": ".py",
   "mimetype": "text/x-python",
   "name": "python",
   "nbconvert_exporter": "python",
   "pygments_lexer": "ipython3",
   "version": "3.8.3"
  }
 },
 "nbformat": 4,
 "nbformat_minor": 4
}
